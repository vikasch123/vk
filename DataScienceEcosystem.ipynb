{
 "cells": [
  {
   "cell_type": "code",
   "execution_count": 1,
   "id": "8291b62d-d963-426c-bc3e-43cf2ccb7e05",
   "metadata": {},
   "outputs": [
    {
     "name": "stdout",
     "output_type": "stream",
     "text": [
      "yo bro i made a jupyter notebook \n"
     ]
    }
   ],
   "source": [
    "print('yo bro i made a jupyter notebook ')"
   ]
  },
  {
   "cell_type": "markdown",
   "id": "49aa199b-993b-492e-9cb7-afc4e2d5da6e",
   "metadata": {},
   "source": [
    "# Data Science Tools and Ecosystem"
   ]
  },
  {
   "cell_type": "markdown",
   "id": "16f9eace-1144-447f-95bc-d963000df183",
   "metadata": {},
   "source": [
    "## In this notebook, Data Science Tools and Ecosystem are summarized."
   ]
  },
  {
   "cell_type": "markdown",
   "id": "fb41ea04-77a9-4e16-9556-0dc65047ab4b",
   "metadata": {},
   "source": [
    "## Some of the popular languages that Data Scientists use are:"
   ]
  },
  {
   "cell_type": "markdown",
   "id": "52c1880b-9a28-45dc-a1cf-609566929578",
   "metadata": {},
   "source": [
    "- Python\n",
    "- R\n",
    "- Scala"
   ]
  },
  {
   "cell_type": "markdown",
   "id": "11742f58-d951-4476-bf28-09e8c97f4072",
   "metadata": {},
   "source": [
    "## Some of the commonly used libraries used by Data Scientists include:"
   ]
  },
  {
   "cell_type": "markdown",
   "id": "9e8cb227-379a-409d-b12e-3768188c4313",
   "metadata": {},
   "source": [
    "1. TensorFlow\n",
    "2. matplotlib\n",
    "3. seaborn\n",
    "4. scikit-learn\n",
    "5. pytorch\n",
    "6. many more(just google it, i am not going to mention everything)"
   ]
  },
  {
   "cell_type": "markdown",
   "id": "4e7586d8-5e64-48df-a83d-9e46a902e0b2",
   "metadata": {},
   "source": [
    "| Data Science Tools |\n",
    "|---------------------|\n",
    "| Jupyter Notebook    |\n",
    "| RStudio             |\n",
    "| VS Code with Python |\n"
   ]
  },
  {
   "cell_type": "markdown",
   "id": "8bfc8888-c465-4290-a0ae-3748f57904a8",
   "metadata": {},
   "source": [
    "### Below are a few examples of evaluating arithmetic expressions in Python"
   ]
  },
  {
   "cell_type": "markdown",
   "id": "efa8b044-4c98-47e0-b251-78cb79dac141",
   "metadata": {},
   "source": [
    "1. Addition: 5 + 3\n",
    "2. Subtraction: 10 - 4\n",
    "3. Multiplication: 6 * 7\n",
    "4. Division: 20 / 4\n",
    "5. Exponentiation: 2 ** 3 (2 raised to the power of 3)\n",
    "6. Modulo: 10 % 3 (remainder of 10 divided by 3)"
   ]
  },
  {
   "cell_type": "markdown",
   "id": "562f4c4d-c0f7-481f-8075-8c4ed67e72b1",
   "metadata": {},
   "source": [
    "# This is a simple arithmetic expression to multiply then add integers."
   ]
  },
  {
   "cell_type": "code",
   "execution_count": 2,
   "id": "4e3976cf-ed0b-451a-af84-6bb2717506c2",
   "metadata": {},
   "outputs": [
    {
     "data": {
      "text/plain": [
       "17"
      ]
     },
     "execution_count": 2,
     "metadata": {},
     "output_type": "execute_result"
    }
   ],
   "source": [
    "(3*4)+5"
   ]
  },
  {
   "cell_type": "markdown",
   "id": "179ddd89-434a-40da-a4bf-948ef523d90d",
   "metadata": {},
   "source": [
    "# This will convert 200 minutes to hours by dividing by 60."
   ]
  },
  {
   "cell_type": "code",
   "execution_count": 3,
   "id": "5f8b6181-c8d6-4ce8-9bc8-bf077b2cba3f",
   "metadata": {},
   "outputs": [
    {
     "data": {
      "text/plain": [
       "3.3333333333333335"
      ]
     },
     "execution_count": 3,
     "metadata": {},
     "output_type": "execute_result"
    }
   ],
   "source": [
    "200 / 60"
   ]
  },
  {
   "cell_type": "markdown",
   "id": "32e9e5f2-af63-468a-b731-20cdf9bd8375",
   "metadata": {},
   "source": [
    "**Objectives:**\n",
    "\n",
    "- List popular languages for Data Science.\n",
    "- Introduce arithmetic expressions and basic operations in Python.\n",
    "- Demonstrate conversion of units (e.g., minutes to hours) using Python.\n",
    "- Provide examples of markdown cell formatting in Jupyter Notebook.\n",
    "- Familiarize with executing code cells in Jupyter Notebook.\n"
   ]
  },
  {
   "cell_type": "markdown",
   "id": "753066aa-3b54-46fc-a2e9-a72e79ac6965",
   "metadata": {},
   "source": [
    "## Author\n",
    "\n",
    "Vikas Kumar(._.)\n"
   ]
  },
  {
   "cell_type": "code",
   "execution_count": null,
   "id": "2fa0d8e5-3df2-47f1-90a0-125b319b20f6",
   "metadata": {},
   "outputs": [],
   "source": []
  }
 ],
 "metadata": {
  "kernelspec": {
   "display_name": "Python 3 (ipykernel)",
   "language": "python",
   "name": "python3"
  },
  "language_info": {
   "codemirror_mode": {
    "name": "ipython",
    "version": 3
   },
   "file_extension": ".py",
   "mimetype": "text/x-python",
   "name": "python",
   "nbconvert_exporter": "python",
   "pygments_lexer": "ipython3",
   "version": "3.12.2"
  }
 },
 "nbformat": 4,
 "nbformat_minor": 5
}
